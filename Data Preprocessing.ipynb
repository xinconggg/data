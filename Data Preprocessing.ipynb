{
 "cells": [
  {
   "cell_type": "markdown",
   "id": "b3c5e0c1",
   "metadata": {},
   "source": [
    "## Setups & Imports"
   ]
  },
  {
   "cell_type": "code",
   "execution_count": 1,
   "id": "55891a77",
   "metadata": {},
   "outputs": [],
   "source": [
    "# Importation of libraries\n",
    "import numpy as np\n",
    "import pandas as pd\n",
    "import tensorflow as tf\n",
    "import matplotlib.pyplot as plt\n",
    "import seaborn as sns\n",
    "\n",
    "from tensorflow.keras.datasets import fashion_mnist\n",
    "from sklearn.decomposition import PCA\n",
    "from sklearn.preprocessing import StandardScaler, MinMaxScaler\n",
    "from sklearn.cluster import KMeans, DBSCAN\n",
    "from sklearn.manifold import TSNE"
   ]
  },
  {
   "cell_type": "markdown",
   "id": "18a19225",
   "metadata": {},
   "source": [
    "---\n",
    "## Importation of Datasets"
   ]
  },
  {
   "cell_type": "code",
   "execution_count": 2,
   "id": "7c835853",
   "metadata": {},
   "outputs": [
    {
     "name": "stdout",
     "output_type": "stream",
     "text": [
      "Total images: 70000\n",
      "Image dimensions: (28, 28)\n",
      "Total labels: 70000\n",
      "Unique categories: [0 1 2 3 4 5 6 7 8 9]\n"
     ]
    }
   ],
   "source": [
    "# Importation of Fashion-MNIST\n",
    "(fashion_X_train, fashion_y_train), (fashion_X_test, fashion_y_test) = fashion_mnist.load_data()\n",
    "\n",
    "# Combine train and test sets to get all 70,000 images\n",
    "fashion_X = np.concatenate([fashion_X_train, fashion_X_test])\n",
    "fashion_y = np.concatenate([fashion_y_train, fashion_y_test])\n",
    "\n",
    "# Initial inspection\n",
    "print(\"Total images:\", fashion_X.shape[0])          \n",
    "print(\"Image dimensions:\", fashion_X.shape[1:])     \n",
    "print(\"Total labels:\", fashion_y.shape[0])        \n",
    "print(\"Unique categories:\", np.unique(fashion_y))   "
   ]
  },
  {
   "cell_type": "code",
   "execution_count": 3,
   "id": "1bf8d3ab",
   "metadata": {},
   "outputs": [
    {
     "name": "stdout",
     "output_type": "stream",
     "text": [
      "First 5 records:\n",
      "    brewery_id             brewery_name  review_time  review_overall  \\\n",
      "0       10325          Vecchio Birraio   1234817823             1.5   \n",
      "1       10325          Vecchio Birraio   1235915097             3.0   \n",
      "2       10325          Vecchio Birraio   1235916604             3.0   \n",
      "3       10325          Vecchio Birraio   1234725145             3.0   \n",
      "4        1075  Caldera Brewing Company   1293735206             4.0   \n",
      "\n",
      "   review_aroma  review_appearance review_profilename  \\\n",
      "0           2.0                2.5            stcules   \n",
      "1           2.5                3.0            stcules   \n",
      "2           2.5                3.0            stcules   \n",
      "3           3.0                3.5            stcules   \n",
      "4           4.5                4.0     johnmichaelsen   \n",
      "\n",
      "                       beer_style  review_palate  review_taste  \\\n",
      "0                      Hefeweizen            1.5           1.5   \n",
      "1              English Strong Ale            3.0           3.0   \n",
      "2          Foreign / Export Stout            3.0           3.0   \n",
      "3                 German Pilsener            2.5           3.0   \n",
      "4  American Double / Imperial IPA            4.0           4.5   \n",
      "\n",
      "                beer_name  beer_abv  beer_beerid  \n",
      "0            Sausa Weizen       5.0        47986  \n",
      "1                Red Moon       6.2        48213  \n",
      "2  Black Horse Black Beer       6.5        48215  \n",
      "3              Sausa Pils       5.0        47969  \n",
      "4           Cauldron DIPA       7.7        64883  \n",
      "\n",
      "Dataset info:\n",
      "<class 'pandas.core.frame.DataFrame'>\n",
      "RangeIndex: 1586614 entries, 0 to 1586613\n",
      "Data columns (total 13 columns):\n",
      " #   Column              Non-Null Count    Dtype  \n",
      "---  ------              --------------    -----  \n",
      " 0   brewery_id          1586614 non-null  int64  \n",
      " 1   brewery_name        1586599 non-null  object \n",
      " 2   review_time         1586614 non-null  int64  \n",
      " 3   review_overall      1586614 non-null  float64\n",
      " 4   review_aroma        1586614 non-null  float64\n",
      " 5   review_appearance   1586614 non-null  float64\n",
      " 6   review_profilename  1586266 non-null  object \n",
      " 7   beer_style          1586614 non-null  object \n",
      " 8   review_palate       1586614 non-null  float64\n",
      " 9   review_taste        1586614 non-null  float64\n",
      " 10  beer_name           1586614 non-null  object \n",
      " 11  beer_abv            1518829 non-null  float64\n",
      " 12  beer_beerid         1586614 non-null  int64  \n",
      "dtypes: float64(6), int64(3), object(4)\n",
      "memory usage: 157.4+ MB\n",
      "None\n",
      "\n",
      "Missing values per column:\n",
      "brewery_id                0\n",
      "brewery_name             15\n",
      "review_time               0\n",
      "review_overall            0\n",
      "review_aroma              0\n",
      "review_appearance         0\n",
      "review_profilename      348\n",
      "beer_style                0\n",
      "review_palate             0\n",
      "review_taste              0\n",
      "beer_name                 0\n",
      "beer_abv              67785\n",
      "beer_beerid               0\n",
      "dtype: int64\n"
     ]
    }
   ],
   "source": [
    "# Importation of Beer Reviews\n",
    "file_path = \"C:/Users/Admin/Desktop/SC4020/beer_reviews.csv\"  # Replace with your CSV file path\n",
    "beer_reviews_df = pd.read_csv(file_path)\n",
    "\n",
    "# Initial inspection\n",
    "print(\"First 5 records:\\n\", beer_reviews_df.head())\n",
    "print(\"\\nDataset info:\")\n",
    "print(beer_reviews_df.info())\n",
    "print(\"\\nMissing values per column:\")\n",
    "print(beer_reviews_df.isnull().sum())"
   ]
  },
  {
   "cell_type": "markdown",
   "id": "3a54d512",
   "metadata": {},
   "source": [
    "---\n",
    "## Data Cleaning & Preprocessing"
   ]
  },
  {
   "cell_type": "code",
   "execution_count": 4,
   "id": "222fbfa1",
   "metadata": {},
   "outputs": [
    {
     "name": "stdout",
     "output_type": "stream",
     "text": [
      "Shape after flattening: (70000, 784)\n"
     ]
    }
   ],
   "source": [
    "### Fashion MNIST\n",
    "# Flatten images (28x28 → 784)\n",
    "fashion_X_flat = fashion_X.reshape(fashion_X.shape[0], -1)\n",
    "\n",
    "# Normalize pixel values to range [0, 1]\n",
    "fashion_X_normalized = fashion_X_flat / 255.0\n",
    "\n",
    "# Inspect results\n",
    "print(\"Shape after flattening:\", fashion_X_normalized.shape)"
   ]
  },
  {
   "cell_type": "code",
   "execution_count": 5,
   "id": "023c2efc",
   "metadata": {},
   "outputs": [
    {
     "name": "stdout",
     "output_type": "stream",
     "text": [
      "Explained variance (Fashion-MNIST): 0.8625712697433543\n"
     ]
    },
    {
     "data": {
      "image/png": "[encoded data removed]",
      "text/plain": [
       "<Figure size 800x500 with 1 Axes>"
      ]
     },
     "metadata": {},
     "output_type": "display_data"
    }
   ],
   "source": [
    "### Fashion-MNIST\n",
    "## Dimensionality Reduction\n",
    "# PCA Reduction (50 Components)\n",
    "pca = PCA(n_components=50)\n",
    "fashion_X_pca = pca.fit_transform(fashion_X_normalized)\n",
    "print(\"Explained variance (Fashion-MNIST):\", np.sum(pca.explained_variance_ratio_))\n",
    "\n",
    "# Plot\n",
    "plt.figure(figsize=(8,5))\n",
    "plt.plot(np.cumsum(pca.explained_variance_ratio_), marker='o', linestyle='--')\n",
    "plt.xlabel(\"Number of Components\")\n",
    "plt.ylabel(\"Cumulative Explained Variance\")\n",
    "plt.title(\"PCA Explained Variance for Fashion-MNIST\")\n",
    "plt.grid(True)\n",
    "plt.show()"
   ]
  },
  {
   "cell_type": "code",
   "execution_count": 6,
   "id": "4ac2bd8e",
   "metadata": {},
   "outputs": [
    {
     "name": "stdout",
     "output_type": "stream",
     "text": [
      "\n",
      "Rows before removing missing values: 1586614\n",
      "Rows after removing missing values: 1518478\n",
      "Number of Rows removed: 68136 (4.29%)\n",
      "\n",
      "First 5 rows after Standardization and Normalization:\n",
      "   review_overall  review_aroma  review_appearance  review_palate  \\\n",
      "0             0.3         0.250                0.5          0.125   \n",
      "1             0.6         0.375                0.6          0.500   \n",
      "2             0.6         0.375                0.6          0.500   \n",
      "3             0.6         0.500                0.7          0.375   \n",
      "4             0.8         0.875                0.8          0.750   \n",
      "\n",
      "   review_taste  beer_abv  \n",
      "0         0.125  0.086497  \n",
      "1         0.500  0.107298  \n",
      "2         0.500  0.112498  \n",
      "3         0.500  0.086497  \n",
      "4         0.875  0.133299  \n"
     ]
    }
   ],
   "source": [
    "### Beer Reviews\n",
    "# Remove rows with missing values\n",
    "beer_reviews_cleaned = beer_reviews_df.dropna().copy()\n",
    "print(f\"\\nRows before removing missing values: {beer_reviews_df.shape[0]}\")\n",
    "print(f\"Rows after removing missing values: {beer_reviews_cleaned.shape[0]}\")\n",
    "print(f\"Number of Rows removed: {beer_reviews_df.shape[0] - beer_reviews_cleaned.shape[0]} \"\n",
    "      f\"({(beer_reviews_df.shape[0] - beer_reviews_cleaned.shape[0]) / beer_reviews_df.shape[0] * 100:.2f}%)\")\n",
    "\n",
    "# Standardize numerical values\n",
    "num_features = ['review_overall', 'review_aroma', 'review_appearance', 'review_palate', 'review_taste', \"beer_abv\"]  \n",
    "scaler = StandardScaler()\n",
    "beer_reviews_cleaned[num_features] = scaler.fit_transform(beer_reviews_cleaned[num_features])\n",
    "\n",
    "# Normalize numerical values to range [0, 1]\n",
    "minmax_scaler = MinMaxScaler()\n",
    "beer_reviews_cleaned[num_features] = minmax_scaler.fit_transform(beer_reviews_cleaned[num_features])\n",
    "\n",
    "# Inspect results\n",
    "print(\"\\nFirst 5 rows after Standardization and Normalization:\")\n",
    "print(beer_reviews_cleaned[num_features].head())"
   ]
  }
 ],
 "metadata": {
  "kernelspec": {
   "display_name": "Python 3",
   "language": "python",
   "name": "python3"
  },
  "language_info": {
   "codemirror_mode": {
    "name": "ipython",
    "version": 3
   },
   "file_extension": ".py",
   "mimetype": "text/x-python",
   "name": "python",
   "nbconvert_exporter": "python",
   "pygments_lexer": "ipython3",
   "version": "3.13.5"
  }
 },
 "nbformat": 4,
 "nbformat_minor": 5
}
